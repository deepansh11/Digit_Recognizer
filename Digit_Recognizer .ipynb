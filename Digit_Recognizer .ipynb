{
  "nbformat": 4,
  "nbformat_minor": 0,
  "metadata": {
    "colab": {
      "name": "Digit_Recognizer.ipynb",
      "version": "0.3.2",
      "provenance": [],
      "collapsed_sections": []
    },
    "kernelspec": {
      "name": "python3",
      "display_name": "Python 3"
    },
    "accelerator": "GPU"
  },
  "cells": [
    {
      "cell_type": "code",
      "metadata": {
        "id": "2t4_I9ExQLWY",
        "colab_type": "code",
        "colab": {
          "base_uri": "https://localhost:8080/",
          "height": 34
        },
        "outputId": "20636e0a-0aa5-4cba-bb5b-9a8b0557be52"
      },
      "source": [
        "import csv\n",
        "import numpy as np\n",
        "import tensorflow as tf\n",
        "from tensorflow.keras.preprocessing.image import ImageDataGenerator\n",
        "from google.colab import files\n"
      ],
      "execution_count": 14,
      "outputs": [
        {
          "output_type": "stream",
          "text": [
            "Using TensorFlow backend.\n"
          ],
          "name": "stderr"
        }
      ]
    },
    {
      "cell_type": "code",
      "metadata": {
        "id": "aAE1KkO8QQO4",
        "colab_type": "code",
        "colab": {}
      },
      "source": [
        "uploaded=files.upload()"
      ],
      "execution_count": 0,
      "outputs": []
    },
    {
      "cell_type": "code",
      "metadata": {
        "id": "-3_fy5r6Qfnq",
        "colab_type": "code",
        "colab": {
          "base_uri": "https://localhost:8080/",
          "height": 85
        },
        "outputId": "93c97faf-d3ce-421f-deba-809cf3275fd7"
      },
      "source": [
        "def get_data(filename):\n",
        "    with open(filename) as training_file:\n",
        "        csv_reader = csv.reader(training_file, delimiter=',')\n",
        "        first_line = True\n",
        "        temp_images = []\n",
        "        temp_labels = []\n",
        "        for row in csv_reader:\n",
        "            if first_line:\n",
        "                # print(\"Ignoring first line\")\n",
        "                first_line = False\n",
        "            else:\n",
        "                  if(filename=='train.csv'):\n",
        "                    temp_labels.append(row[0])\n",
        "                    image_data = row[1:785]\n",
        "                    image_data_as_array = np.array_split(image_data, 28)\n",
        "                    temp_images.append(image_data_as_array)\n",
        "                  elif(filename == 'test.csv'):\n",
        "                    temp_labels.append(row[0])\n",
        "                    image_data = row[0:784]\n",
        "                    image_data_as_array = np.array_split(image_data, 28)\n",
        "                    temp_images.append(image_data_as_array)\n",
        "        images = np.array(temp_images).astype('float')\n",
        "        labels = np.array(temp_labels).astype('float')\n",
        "    return images, labels\n",
        "\n",
        "\n",
        "training_images, training_labels = get_data('train.csv')\n",
        "testing_images, testing_labels = get_data('test.csv')\n",
        "\n",
        "print(training_images.shape)\n",
        "print(training_labels.shape)\n",
        "print(testing_images.shape)\n",
        "print(testing_labels.shape)\n"
      ],
      "execution_count": 5,
      "outputs": [
        {
          "output_type": "stream",
          "text": [
            "(42000, 28, 28)\n",
            "(42000,)\n",
            "(28000, 28, 28)\n",
            "(28000,)\n"
          ],
          "name": "stdout"
        }
      ]
    },
    {
      "cell_type": "code",
      "metadata": {
        "id": "1YzYNpKdje1o",
        "colab_type": "code",
        "colab": {}
      },
      "source": [
        "  training_images = training_images.reshape(42000,28,28,1)\n",
        "  testing_images = testing_images.reshape(28000,28,28,1)"
      ],
      "execution_count": 0,
      "outputs": []
    },
    {
      "cell_type": "code",
      "metadata": {
        "id": "tyaZI0RRnPGl",
        "colab_type": "code",
        "colab": {}
      },
      "source": [
        "model = tf.keras.models.Sequential([\n",
        "          tf.keras.layers.Conv2D(32,(3,3),activation = 'relu',input_shape = (28,28,1)),\n",
        "          tf.keras.layers.MaxPooling2D(2,2),\n",
        "          tf.keras.layers.Conv2D(32,(3,3),activation = 'relu'),\n",
        "          tf.keras.layers.MaxPooling2D(2,2),\n",
        "          tf.keras.layers.Conv2D(64,(3,3),activation = 'relu'),\n",
        "          tf.keras.layers.MaxPooling2D(2,2),\n",
        "          tf.keras.layers.Dropout(0.4),\n",
        "          tf.keras.layers.Flatten(),\n",
        "          tf.keras.layers.Dense(16,activation = 'relu'),\n",
        "          tf.keras.layers.Dense(10,activation = 'softmax')\n",
        "])\n",
        "\n",
        "model.compile(optimizer = 'adam',loss = 'sparse_categorical_crossentropy',metrics = ['acc'])\n"
      ],
      "execution_count": 0,
      "outputs": []
    },
    {
      "cell_type": "code",
      "metadata": {
        "id": "yISvqE-ir2Hb",
        "colab_type": "code",
        "colab": {
          "base_uri": "https://localhost:8080/",
          "height": 561
        },
        "outputId": "2a068881-f5b3-414a-f8b9-5dcd7dadc1ab"
      },
      "source": [
        "history = model.fit(training_images,training_labels,epochs = 15,batch_size = 128)\n",
        "                            \n",
        "\n",
        "model.evaluate(testing_images,testing_labels)"
      ],
      "execution_count": 58,
      "outputs": [
        {
          "output_type": "stream",
          "text": [
            "Epoch 1/15\n",
            "42000/42000 [==============================] - 3s 73us/sample - loss: 0.0520 - acc: 0.9843\n",
            "Epoch 2/15\n",
            "42000/42000 [==============================] - 3s 72us/sample - loss: 0.0414 - acc: 0.9870\n",
            "Epoch 3/15\n",
            "42000/42000 [==============================] - 3s 71us/sample - loss: 0.0386 - acc: 0.9884\n",
            "Epoch 4/15\n",
            "42000/42000 [==============================] - 3s 71us/sample - loss: 0.0359 - acc: 0.9888\n",
            "Epoch 5/15\n",
            "42000/42000 [==============================] - 3s 72us/sample - loss: 0.0379 - acc: 0.9885\n",
            "Epoch 6/15\n",
            "42000/42000 [==============================] - 3s 71us/sample - loss: 0.0360 - acc: 0.9888\n",
            "Epoch 7/15\n",
            "42000/42000 [==============================] - 3s 71us/sample - loss: 0.0384 - acc: 0.9877\n",
            "Epoch 8/15\n",
            "42000/42000 [==============================] - 3s 71us/sample - loss: 0.0357 - acc: 0.9886\n",
            "Epoch 9/15\n",
            "42000/42000 [==============================] - 3s 71us/sample - loss: 0.0364 - acc: 0.9886\n",
            "Epoch 10/15\n",
            "42000/42000 [==============================] - 3s 71us/sample - loss: 0.0359 - acc: 0.9892\n",
            "Epoch 11/15\n",
            "42000/42000 [==============================] - 3s 71us/sample - loss: 0.0371 - acc: 0.9885\n",
            "Epoch 12/15\n",
            "42000/42000 [==============================] - 3s 71us/sample - loss: 0.0353 - acc: 0.9895\n",
            "Epoch 13/15\n",
            "42000/42000 [==============================] - 3s 71us/sample - loss: 0.0335 - acc: 0.9894\n",
            "Epoch 14/15\n",
            "42000/42000 [==============================] - 3s 71us/sample - loss: 0.0347 - acc: 0.9896\n",
            "Epoch 15/15\n",
            "42000/42000 [==============================] - 3s 71us/sample - loss: 0.0333 - acc: 0.9895\n",
            "28000/28000 [==============================] - 2s 88us/sample - loss: 30.3251 - acc: 0.0987\n"
          ],
          "name": "stdout"
        },
        {
          "output_type": "execute_result",
          "data": {
            "text/plain": [
              "[30.325091201782225, 0.098678574]"
            ]
          },
          "metadata": {
            "tags": []
          },
          "execution_count": 58
        }
      ]
    },
    {
      "cell_type": "code",
      "metadata": {
        "id": "HiUCoB8cvEH4",
        "colab_type": "code",
        "colab": {
          "base_uri": "https://localhost:8080/",
          "height": 34
        },
        "outputId": "acb321a0-5e37-4018-c794-74a7119633f1"
      },
      "source": [
        "a = model.predict(testing_images, verbose=0)\n",
        "\n",
        "with open('Answer.csv', 'w') as file:\n",
        "    myfile = csv.writer(file, delimiter=',', quotechar='\"', quoting=csv.QUOTE_MINIMAL, lineterminator='\\n')\n",
        "    myfile.writerow(['ImageId', 'Label'])\n",
        "    for i in range(0,testing_labels.shape[0]):\n",
        "        myfile.writerow([i+1, np.argmax(a[i])])\n",
        "file.close"
      ],
      "execution_count": 64,
      "outputs": [
        {
          "output_type": "execute_result",
          "data": {
            "text/plain": [
              "<function TextIOWrapper.close>"
            ]
          },
          "metadata": {
            "tags": []
          },
          "execution_count": 64
        }
      ]
    },
    {
      "cell_type": "code",
      "metadata": {
        "id": "W8uUcUsmJDy5",
        "colab_type": "code",
        "colab": {}
      },
      "source": [
        ""
      ],
      "execution_count": 0,
      "outputs": []
    }
  ]
}